{
 "cells": [
  {
   "cell_type": "markdown",
   "metadata": {},
   "source": [
    "# ROC Curves and AUC - Lab\n",
    "\n",
    "\n",
    "## Introduction \n",
    "\n",
    "In this lab, you'll practice drawing ROC graphs, calculating AUC, and interpreting these results. In doing so, you will also further review logistic regression, by briefly fitting a model as in a standard data science pipeline.\n",
    "\n",
    "## Objectives\n",
    "\n",
    "You will be able to:\n",
    "\n",
    "- Create a visualization of ROC curves and use it to assess a model \n",
    "- Evaluate classification models using the evaluation metrics appropriate for a specific problem "
   ]
  },
  {
   "cell_type": "markdown",
   "metadata": {},
   "source": [
    "## Train the model\n",
    "\n",
    "Start by repeating the previous modeling steps we have discussed. For this problem, you are given a dataset `'mushrooms.csv'`. Your first job is to train a `LogisticRegression` classifier on the dataset to determine whether the mushroom is edible (e) or poisonous (p). The first column of the dataset `class` indicates whether or not the mushroom is poisonous or edible.\n",
    "\n",
    "But first, \n",
    "\n",
    "- Import the data \n",
    "- Print the first five rows of the data \n",
    "- Print DataFrame's `.info()` "
   ]
  },
  {
   "cell_type": "code",
   "execution_count": 1,
   "metadata": {},
   "outputs": [
    {
     "name": "stdout",
     "output_type": "stream",
     "text": [
      "First five rows of the dataset:\n",
      "  class cap-shape cap-surface cap-color bruises odor gill-attachment  \\\n",
      "0     p         x           s         n       t    p               f   \n",
      "1     e         x           s         y       t    a               f   \n",
      "2     e         b           s         w       t    l               f   \n",
      "3     p         x           y         w       t    p               f   \n",
      "4     e         x           s         g       f    n               f   \n",
      "\n",
      "  gill-spacing gill-size gill-color  ... stalk-surface-below-ring  \\\n",
      "0            c         n          k  ...                        s   \n",
      "1            c         b          k  ...                        s   \n",
      "2            c         b          n  ...                        s   \n",
      "3            c         n          n  ...                        s   \n",
      "4            w         b          k  ...                        s   \n",
      "\n",
      "  stalk-color-above-ring stalk-color-below-ring veil-type veil-color  \\\n",
      "0                      w                      w         p          w   \n",
      "1                      w                      w         p          w   \n",
      "2                      w                      w         p          w   \n",
      "3                      w                      w         p          w   \n",
      "4                      w                      w         p          w   \n",
      "\n",
      "  ring-number ring-type spore-print-color population habitat  \n",
      "0           o         p                 k          s       u  \n",
      "1           o         p                 n          n       g  \n",
      "2           o         p                 n          n       m  \n",
      "3           o         p                 k          s       u  \n",
      "4           o         e                 n          a       g  \n",
      "\n",
      "[5 rows x 23 columns]\n",
      "\n",
      "DataFrame Info:\n",
      "<class 'pandas.core.frame.DataFrame'>\n",
      "RangeIndex: 8124 entries, 0 to 8123\n",
      "Data columns (total 23 columns):\n",
      " #   Column                    Non-Null Count  Dtype \n",
      "---  ------                    --------------  ----- \n",
      " 0   class                     8124 non-null   object\n",
      " 1   cap-shape                 8124 non-null   object\n",
      " 2   cap-surface               8124 non-null   object\n",
      " 3   cap-color                 8124 non-null   object\n",
      " 4   bruises                   8124 non-null   object\n",
      " 5   odor                      8124 non-null   object\n",
      " 6   gill-attachment           8124 non-null   object\n",
      " 7   gill-spacing              8124 non-null   object\n",
      " 8   gill-size                 8124 non-null   object\n",
      " 9   gill-color                8124 non-null   object\n",
      " 10  stalk-shape               8124 non-null   object\n",
      " 11  stalk-root                8124 non-null   object\n",
      " 12  stalk-surface-above-ring  8124 non-null   object\n",
      " 13  stalk-surface-below-ring  8124 non-null   object\n",
      " 14  stalk-color-above-ring    8124 non-null   object\n",
      " 15  stalk-color-below-ring    8124 non-null   object\n",
      " 16  veil-type                 8124 non-null   object\n",
      " 17  veil-color                8124 non-null   object\n",
      " 18  ring-number               8124 non-null   object\n",
      " 19  ring-type                 8124 non-null   object\n",
      " 20  spore-print-color         8124 non-null   object\n",
      " 21  population                8124 non-null   object\n",
      " 22  habitat                   8124 non-null   object\n",
      "dtypes: object(23)\n",
      "memory usage: 1.4+ MB\n",
      "None\n"
     ]
    }
   ],
   "source": [
    "import pandas as pd\n",
    "\n",
    "# Load the dataset\n",
    "df = pd.read_csv('mushrooms.csv')\n",
    "\n",
    "# Preview the first five rows of the dataset\n",
    "print(\"First five rows of the dataset:\")\n",
    "print(df.head())\n",
    "\n",
    "# Print DataFrame's .info()\n",
    "print(\"\\nDataFrame Info:\")\n",
    "print(df.info())\n"
   ]
  },
  {
   "cell_type": "markdown",
   "metadata": {},
   "source": [
    "The next step is to define the predictor and target variables. Did you notice all the columns are of type `object`? So you will need to first create dummy variables. \n",
    "\n",
    "- First, create a dummy variable for the `'class'` column. Make sure you drop the first level \n",
    "- Drop the `'class'` column from `df` and then create dummy variables for all the remaining columns. Again, make sure you drop the first level \n",
    "- Import `train_test_split` \n",
    "- Split the data (`X` and `y`) into training and test sets with 25% in the test set. Set `random_state` to 42 to ensure reproducibility "
   ]
  },
  {
   "cell_type": "code",
   "execution_count": 2,
   "metadata": {},
   "outputs": [
    {
     "name": "stdout",
     "output_type": "stream",
     "text": [
      "X_train shape: (6093, 95)\n",
      "X_test shape: (2031, 95)\n",
      "y_train shape: (6093,)\n",
      "y_test shape: (2031,)\n"
     ]
    }
   ],
   "source": [
    "import pandas as pd\n",
    "from sklearn.model_selection import train_test_split\n",
    "\n",
    "# Load the dataset\n",
    "df = pd.read_csv('mushrooms.csv')\n",
    "\n",
    "# Create a dummy variable for the 'class' column and drop the first level\n",
    "y = pd.get_dummies(df['class'], drop_first=True)\n",
    "y = y['p']  # 'p' indicates poisonous\n",
    "\n",
    "# Drop the 'class' column from df\n",
    "df = df.drop('class', axis=1)\n",
    "\n",
    "# Create dummy variables for all remaining columns, dropping the first level\n",
    "X = pd.get_dummies(df, drop_first=True)\n",
    "\n",
    "# Import train_test_split\n",
    "from sklearn.model_selection import train_test_split\n",
    "\n",
    "# Split the data into training and test sets\n",
    "X_train, X_test, y_train, y_test = train_test_split(X, y, test_size=0.25, random_state=42)\n",
    "\n",
    "# Print shapes of the resulting datasets\n",
    "print(\"X_train shape:\", X_train.shape)\n",
    "print(\"X_test shape:\", X_test.shape)\n",
    "print(\"y_train shape:\", y_train.shape)\n",
    "print(\"y_test shape:\", y_test.shape)\n"
   ]
  },
  {
   "cell_type": "markdown",
   "metadata": {},
   "source": [
    "- Fit the vanilla logistic regression model we defined for you to training data \n",
    "- Make predictions using this model on test data "
   ]
  },
  {
   "cell_type": "code",
   "execution_count": 3,
   "metadata": {},
   "outputs": [
    {
     "name": "stdout",
     "output_type": "stream",
     "text": [
      "First few predictions on the test set: [False  True  True False  True  True  True  True False False]\n"
     ]
    }
   ],
   "source": [
    "from sklearn.linear_model import LogisticRegression\n",
    "\n",
    "# Instantiate the logistic regression model\n",
    "logreg = LogisticRegression(fit_intercept=False, C=1e12, solver='liblinear')\n",
    "\n",
    "# Fit the model to the training data\n",
    "model_log = logreg.fit(X_train, y_train)\n",
    "\n",
    "# Predict on the test set\n",
    "y_hat_test = logreg.predict(X_test)\n",
    "\n",
    "# Print the first few predictions\n",
    "print(\"First few predictions on the test set:\", y_hat_test[:10])\n"
   ]
  },
  {
   "cell_type": "markdown",
   "metadata": {},
   "source": [
    "## Calculate TPR and FPR\n",
    "  \n",
    "Next, calculate the false positive rate and true positive rate (you can use the built-in functions from `sklearn`): "
   ]
  },
  {
   "cell_type": "code",
   "execution_count": 4,
   "metadata": {},
   "outputs": [
    {
     "name": "stdout",
     "output_type": "stream",
     "text": [
      "FPR (Test): [0. 0. 0. 1.]\n",
      "TPR (Test): [0.         0.00100908 1.         1.        ]\n",
      "Thresholds (Test): [           inf 1.00000000e+00 9.98003847e-01 1.57600041e-11]\n"
     ]
    }
   ],
   "source": [
    "from sklearn.metrics import roc_curve, auc\n",
    "\n",
    "# Calculate the probability scores of each point in the training set\n",
    "y_train_score = logreg.predict_proba(X_train)[:, 1]\n",
    "\n",
    "# Calculate the FPR, TPR, and thresholds for the training set\n",
    "train_fpr, train_tpr, train_thresholds = roc_curve(y_train, y_train_score)\n",
    "\n",
    "# Calculate the probability scores of each point in the test set\n",
    "y_score = logreg.predict_proba(X_test)[:, 1]\n",
    "\n",
    "# Calculate the FPR, TPR, and thresholds for the test set\n",
    "fpr, tpr, thresholds = roc_curve(y_test, y_score)\n",
    "\n",
    "# Print the first few values of FPR, TPR, and thresholds for the test set\n",
    "print(\"FPR (Test):\", fpr[:10])\n",
    "print(\"TPR (Test):\", tpr[:10])\n",
    "print(\"Thresholds (Test):\", thresholds[:10])\n"
   ]
  },
  {
   "cell_type": "markdown",
   "metadata": {},
   "source": [
    "## Draw the ROC curve\n",
    "\n",
    "Next, use the false positive rate and true positive rate to plot the Receiver Operating Characteristic Curve for both the train and test sets."
   ]
  },
  {
   "cell_type": "code",
   "execution_count": 5,
   "metadata": {},
   "outputs": [
    {
     "name": "stdout",
     "output_type": "stream",
     "text": [
      "AUC: 1.0\n"
     ]
    },
    {
     "data": {
      "image/png": "[encoded data removed]",
      "text/plain": [
       "<Figure size 1000x800 with 1 Axes>"
      ]
     },
     "metadata": {},
     "output_type": "display_data"
    }
   ],
   "source": [
    "import matplotlib.pyplot as plt\n",
    "import seaborn as sns\n",
    "%matplotlib inline\n",
    "\n",
    "# Seaborn's beautiful styling\n",
    "sns.set_style('darkgrid', {'axes.facecolor': '0.9'})\n",
    "\n",
    "# ROC curve for training set\n",
    "plt.figure(figsize=(10, 8))\n",
    "lw = 2\n",
    "plt.plot(train_fpr, train_tpr, color='darkorange',\n",
    "         lw=lw, label='ROC curve')\n",
    "plt.plot([0, 1], [0, 1], color='navy', lw=lw, linestyle='--')\n",
    "plt.xlim([0.0, 1.0])\n",
    "plt.ylim([0.0, 1.05])\n",
    "plt.yticks([i/20.0 for i in range(21)])\n",
    "plt.xticks([i/20.0 for i in range(21)])\n",
    "plt.xlabel('False Positive Rate')\n",
    "plt.ylabel('True Positive Rate')\n",
    "plt.title('Receiver operating characteristic (ROC) Curve for Training Set')\n",
    "plt.legend(loc='lower right')\n",
    "print('AUC: {}'.format(auc(train_fpr, train_tpr)))\n",
    "plt.show()"
   ]
  },
  {
   "cell_type": "code",
   "execution_count": 6,
   "metadata": {},
   "outputs": [
    {
     "data": {
      "text/plain": [
       "<Figure size 1000x800 with 0 Axes>"
      ]
     },
     "metadata": {},
     "output_type": "display_data"
    }
   ],
   "source": [
    "# ROC curve for test set\n",
    "plt.figure(figsize=(10, 8))\n",
    "lw = 2\n"
   ]
  },
  {
   "cell_type": "markdown",
   "metadata": {},
   "source": [
    "What do you notice about these ROC curves? Your answer here: "
   ]
  },
  {
   "cell_type": "raw",
   "metadata": {},
   "source": [
    "Observations\n",
    "Shape of the ROC Curves:\n",
    "\n",
    "If the ROC curve for both the training and test sets is close to the top-left corner, it indicates that the model has a high True Positive Rate and a low False Positive Rate, which is desirable.\n",
    "If the ROC curve is close to the diagonal line, it suggests that the model is performing no better than random guessing.\n",
    "AUC (Area Under the Curve):\n",
    "\n",
    "The AUC provides a single scalar value to summarize the performance of the model. An AUC of 1.0 indicates a perfect model, while an AUC of 0.5 indicates a model that performs no better than random guessing.\n",
    "Compare the AUC values for the training and test sets to assess the model's performance and generalizability.\n",
    "Overfitting:\n",
    "\n",
    "If the ROC curve for the training set is significantly better than the ROC curve for the test set, it may indicate overfitting. The model performs well on the training data but poorly on unseen test data."
   ]
  },
  {
   "cell_type": "markdown",
   "metadata": {},
   "source": [
    "## Interpret ROC curves\n",
    "\n",
    "Since the mushroom model is atypically perfect, let's consider another dataset to practice interpreting ROC curves. This heart disease [dataset](https://www.kaggle.com/datasets/johnsmith88/heart-disease-dataset) is widely used in machine learning and a csv file of the data is in the GitHub repository.\n",
    "\n",
    "Look at the the heart disease's model ROC curve:  \n",
    "\n",
    "<img src=\"https://curriculum-content.s3.amazonaws.com/data-science/images/lesson_roc_graph.png\">\n",
    "\n",
    "Think about the scenario of this model: predicting heart disease. If you tune the current model to have an 82% True Positive Rate, (you've still missed 18% of those with heart disease), what is the False positive rate? "
   ]
  },
  {
   "cell_type": "code",
   "execution_count": 7,
   "metadata": {},
   "outputs": [
    {
     "name": "stdout",
     "output_type": "stream",
     "text": [
      "Approximate FPR when TPR is 0.8: 0.0\n"
     ]
    }
   ],
   "source": [
    "import numpy as np\n",
    "\n",
    "# Find the index of the TPR value closest to 0.8\n",
    "tpr_target = 0.8\n",
    "index = np.argmin(np.abs(tpr - tpr_target))\n",
    "\n",
    "# Get the corresponding FPR value\n",
    "fpr_approx = fpr[index]\n",
    "\n",
    "# Print the approximate FPR when TPR is 0.8\n",
    "print(\"Approximate FPR when TPR is 0.8:\", fpr_approx)\n"
   ]
  },
  {
   "cell_type": "markdown",
   "metadata": {},
   "source": [
    "If you instead tune the model to have a 95.2% True Postive Rate, what will the False Postive Rate be?"
   ]
  },
  {
   "cell_type": "code",
   "execution_count": 8,
   "metadata": {},
   "outputs": [
    {
     "name": "stdout",
     "output_type": "stream",
     "text": [
      "Approximate FPR when TPR is 0.952: 0.0\n"
     ]
    }
   ],
   "source": [
    "import numpy as np\n",
    "\n",
    "# Find the index of the TPR value closest to 0.952\n",
    "tpr_target = 0.952\n",
    "index = np.argmin(np.abs(tpr - tpr_target))\n",
    "\n",
    "# Get the corresponding FPR value\n",
    "fpr_approx = fpr[index]\n",
    "\n",
    "# Print the approximate FPR when TPR is 0.952\n",
    "print(\"Approximate FPR when TPR is 0.952:\", fpr_approx)\n"
   ]
  },
  {
   "cell_type": "markdown",
   "metadata": {},
   "source": [
    "In the case of heart disease dataset, do you find any of the above cases acceptable? How would you tune the model? Describe what this would mean in terms of the number of patients falsely scared of having heart disease and the risk of missing the warning signs for those who do actually have heart disease.\n",
    "\n",
    "Your answer here: "
   ]
  },
  {
   "cell_type": "raw",
   "metadata": {},
   "source": [
    "When dealing with a heart disease dataset, the balance between True Positive Rate (TPR) and False Positive Rate (FPR) is crucial due to the significant implications of both false positives and false negatives.\n",
    "\n",
    "Acceptability of the Above Cases\n",
    "In the context of heart disease:\n",
    "\n",
    "High TPR (e.g., 95.2%): This means that the model correctly identifies 95.2% of patients who have heart disease. While this is desirable because it minimizes the risk of missing patients who actually have heart disease (false negatives), it may come at the cost of a higher FPR.\n",
    "FPR at High TPR: If the FPR is also high when the TPR is 95.2%, it means many patients without heart disease are being falsely identified as having it (false positives). This can lead to unnecessary anxiety, additional tests, and potentially harmful treatments for those patients.\n",
    "Tuning the Model\n",
    "To tune the model, you can adjust the decision threshold to find a balance between TPR and FPR that aligns with the clinical priorities. Here are some strategies:\n",
    "\n",
    "Threshold Adjustment: Lowering the threshold increases TPR but also increases FPR. Conversely, raising the threshold decreases FPR but also decreases TPR.\n",
    "Cost-Sensitive Learning: Incorporate the costs of false positives and false negatives into the model training process. This approach can help to find a balance that minimizes the overall cost of misclassification.\n",
    "Cross-Validation: Use cross-validation to ensure that the model generalizes well to unseen data and does not overfit.\n",
    "Implications\n",
    "False Positives (Patients Falsely Scared):\n",
    "\n",
    "Psychological Impact: Patients may experience unnecessary stress and anxiety.\n",
    "Economic Impact: Additional diagnostic tests and follow-up visits can be costly.\n",
    "Healthcare System Burden: Increased demand for diagnostic resources.\n",
    "False Negatives (Missed Warning Signs):\n",
    "\n",
    "Health Risk: Patients with undiagnosed heart disease may not receive timely treatment, leading to potentially severe health consequences.\n",
    "Mortality Risk: Missing the warning signs can lead to life-threatening events such as heart attacks."
   ]
  },
  {
   "cell_type": "markdown",
   "metadata": {},
   "source": [
    "## Summary\n",
    "\n",
    "In this lab you further explored ROC curves and AUC, drawing graphs and then interpreting these results to lead to a more detailed and contextualized understanding of your model's accuracy."
   ]
  }
 ],
 "metadata": {
  "kernelspec": {
   "display_name": "Python 3 (ipykernel)",
   "language": "python",
   "name": "python3"
  },
  "language_info": {
   "codemirror_mode": {
    "name": "ipython",
    "version": 3
   },
   "file_extension": ".py",
   "mimetype": "text/x-python",
   "name": "python",
   "nbconvert_exporter": "python",
   "pygments_lexer": "ipython3",
   "version": "3.12.4"
  }
 },
 "nbformat": 4,
 "nbformat_minor": 4
}
